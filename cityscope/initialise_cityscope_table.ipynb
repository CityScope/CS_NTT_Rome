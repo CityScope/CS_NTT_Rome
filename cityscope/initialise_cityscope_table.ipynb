{
 "cells": [
  {
   "cell_type": "code",
   "execution_count": null,
   "id": "77c018d0-2070-48ab-b2e1-e49c52fc7cfc",
   "metadata": {},
   "outputs": [],
   "source": [
    "import osmnx as ox\n",
    "import warnings\n",
    "import numpy as np\n",
    "import pandas as pd\n",
    "import geopandas as gpd\n",
    "import osmnx as ox\n",
    "import json\n",
    "\n",
    "def column_usefulness(df,perc=50):\n",
    "    print(len(df))\n",
    "    for i,n in df.isna().sum().sort_values().iteritems():\n",
    "        if n<perc/100*len(df):\n",
    "            print(f\"{i}: {(len(df)-n)/len(df):.2%}\")"
   ]
  },
  {
   "cell_type": "markdown",
   "id": "f278c196",
   "metadata": {},
   "source": [
    "# Create CityScope Table"
   ]
  },
  {
   "cell_type": "code",
   "execution_count": null,
   "id": "e5452dc7",
   "metadata": {},
   "outputs": [],
   "source": [
    "from brix import Grid_maker, Handler\n",
    "table_name = 'ntt_rome'\n",
    "lat,lon = 41.835720, 12.498408 #NTTD IT Rome Coordinates (top-left point)\n",
    "G = Grid_maker(table_name, lat, lon, \n",
    "               cell_size=75, nrows=20, ncols=20, rotation=0, \n",
    "               crs_epsg=None, quietly=False)"
   ]
  },
  {
   "cell_type": "code",
   "execution_count": null,
   "id": "b61fe5ff",
   "metadata": {},
   "outputs": [],
   "source": [
    "grid_geo=G.get_grid_geojson()\n",
    "grid_gdf=gpd.read_file(json.dumps(grid_geo))"
   ]
  },
  {
   "cell_type": "markdown",
   "id": "9bc2e220",
   "metadata": {},
   "source": [
    "## Assign Land Uses to grid cells"
   ]
  },
  {
   "cell_type": "markdown",
   "id": "b89fe862",
   "metadata": {},
   "source": [
    "Have to ignore non-polygon types"
   ]
  },
  {
   "cell_type": "code",
   "execution_count": null,
   "id": "e74720e4-2fc3-4db8-99cc-0bf5b84c43fb",
   "metadata": {},
   "outputs": [],
   "source": [
    "db_valid= gpd.read_file(\"zones/ntt.json\")   #as is scenario (from OSM)"
   ]
  },
  {
   "cell_type": "code",
   "execution_count": null,
   "id": "670de505",
   "metadata": {},
   "outputs": [],
   "source": [
    "grid_over_lu=gpd.overlay(grid_gdf, db_valid)"
   ]
  },
  {
   "cell_type": "code",
   "execution_count": null,
   "id": "04fa9706",
   "metadata": {},
   "outputs": [],
   "source": [
    "grid_gdf=grid_gdf.merge(grid_over_lu[['id', 'section']], \n",
    "                        left_on='id', right_on='id', how='left')"
   ]
  },
  {
   "cell_type": "code",
   "execution_count": null,
   "id": "b10f0935",
   "metadata": {},
   "outputs": [],
   "source": [
    "grid_gdf['section'] = grid_gdf['section'].fillna(value='none')"
   ]
  },
  {
   "cell_type": "code",
   "execution_count": null,
   "id": "8126cedb",
   "metadata": {},
   "outputs": [],
   "source": [
    "grid_gdf['name']=grid_gdf['section'].copy()\n",
    "grid_gdf=grid_gdf.drop(columns=['section'])"
   ]
  },
  {
   "cell_type": "markdown",
   "id": "c4ea4758",
   "metadata": {},
   "source": [
    "## Convert back to dict and add metadata"
   ]
  },
  {
   "cell_type": "code",
   "execution_count": null,
   "id": "1f05ebd9",
   "metadata": {},
   "outputs": [],
   "source": [
    "grid_gdf"
   ]
  },
  {
   "cell_type": "code",
   "execution_count": null,
   "id": "1a179eb9",
   "metadata": {},
   "outputs": [],
   "source": [
    "new_grid_geo=grid_gdf.__geo_interface__"
   ]
  },
  {
   "cell_type": "code",
   "execution_count": null,
   "id": "8ba14273",
   "metadata": {},
   "outputs": [],
   "source": [
    "new_grid_geo"
   ]
  },
  {
   "cell_type": "code",
   "execution_count": null,
   "id": "12aef64f",
   "metadata": {},
   "outputs": [],
   "source": [
    "new_grid_geo['properties']=grid_geo['properties']"
   ]
  },
  {
   "cell_type": "markdown",
   "id": "4ced2c04",
   "metadata": {},
   "source": [
    "## Edit the 'Types' list"
   ]
  },
  {
   "cell_type": "code",
   "execution_count": null,
   "id": "92535d90",
   "metadata": {},
   "outputs": [],
   "source": [
    "types={\n",
    "    \"educational\":\n",
    "    {\n",
    "        \"color\":\n",
    "        [\n",
    "            1,#\n",
    "            152,\n",
    "            189,\n",
    "            255 #180\n",
    "        ],\n",
    "        \"height\":\n",
    "        [\n",
    "            0,\n",
    "            4,\n",
    "            40\n",
    "        ]\n",
    "    },\n",
    "    \"institutional\":\n",
    "    {\n",
    "        \"color\":\n",
    "        [\n",
    "            232,#\n",
    "            254,\n",
    "            181,\n",
    "            255 #180\n",
    "        ],\n",
    "        \"height\":\n",
    "        [\n",
    "            0,\n",
    "            4,\n",
    "            40\n",
    "        ]\n",
    "    },\n",
    "    \"industrial\":\n",
    "    {\n",
    "        \"color\":\n",
    "        [\n",
    "            213,#\n",
    "            2,\n",
    "            85,\n",
    "            255 #180\n",
    "        ],\n",
    "        \"height\":\n",
    "        [\n",
    "            0,\n",
    "            4,\n",
    "            40\n",
    "        ]\n",
    "    },\n",
    "    \n",
    "    \"office\":\n",
    "    {\n",
    "        \"color\":\n",
    "        [\n",
    "            227,\n",
    "            26,\n",
    "            28,\n",
    "            255 #180\n",
    "        ],\n",
    "        \"height\":\n",
    "        [\n",
    "            0,\n",
    "            4,\n",
    "            40\n",
    "        ]\n",
    "    },\n",
    "    \"park\":\n",
    "    {\n",
    "\n",
    "        \"color\":#\n",
    "        [\n",
    "            0,\n",
    "            168,\n",
    "            157,\n",
    "            180 #180\n",
    "        ],\n",
    "        \"height\":\n",
    "        [\n",
    "            0,\n",
    "            4,\n",
    "            40\n",
    "        ],\n",
    "    },\n",
    "    \"residential\":\n",
    "    {\n",
    "        \"color\":\n",
    "        [\n",
    "            254,#\n",
    "            173,\n",
    "            84,\n",
    "            180 #180\n",
    "        ],\n",
    "        \"height\":\n",
    "        [\n",
    "            0,\n",
    "            4,\n",
    "            40\n",
    "        ]\n",
    "    },\n",
    "    \"retail\":\n",
    "    {\n",
    "        \"color\":\n",
    "        [\n",
    "            251,\n",
    "            154,\n",
    "            153,\n",
    "            180 #180\n",
    "        ],\n",
    "        \"height\":\n",
    "        [\n",
    "            0, # min\n",
    "            4, # default\n",
    "            40 # max\n",
    "        ]\n",
    "    }, \n",
    "    \"none\":\n",
    "    {\n",
    "        \"color\":\n",
    "        [\n",
    "            0,\n",
    "            0,\n",
    "            0,\n",
    "            0\n",
    "        ],\n",
    "        \"height\": 0\n",
    "    }\n",
    "}"
   ]
  },
  {
   "cell_type": "code",
   "execution_count": null,
   "id": "b0f8cb9c",
   "metadata": {},
   "outputs": [],
   "source": [
    "new_grid_geo['properties']['types']=types"
   ]
  },
  {
   "cell_type": "code",
   "execution_count": null,
   "id": "f52398e2",
   "metadata": {},
   "outputs": [],
   "source": [
    "G.geojson_object=new_grid_geo"
   ]
  },
  {
   "cell_type": "code",
   "execution_count": null,
   "id": "97c06223",
   "metadata": {},
   "outputs": [],
   "source": [
    "try:\n",
    "    G.commit_grid()\n",
    "except:\n",
    "    pass"
   ]
  },
  {
   "cell_type": "code",
   "execution_count": null,
   "id": "8279f697",
   "metadata": {},
   "outputs": [],
   "source": [
    "#Table is now accessible at https://cityscope.media.mit.edu/CS_cityscopeJS/?cityscope=ntt_rome"
   ]
  },
  {
   "cell_type": "markdown",
   "id": "cbca958f",
   "metadata": {},
   "source": [
    "After changing the grid on the front-end you can reset it using the following:"
   ]
  },
  {
   "cell_type": "code",
   "execution_count": null,
   "id": "282cc6f3",
   "metadata": {},
   "outputs": [],
   "source": [
    "H = Handler('ntt_rome')\n",
    "H.reset_geogrid_data()"
   ]
  },
  {
   "cell_type": "code",
   "execution_count": null,
   "id": "c103bba8",
   "metadata": {},
   "outputs": [],
   "source": []
  },
  {
   "cell_type": "code",
   "execution_count": null,
   "id": "e5c77666",
   "metadata": {},
   "outputs": [],
   "source": []
  }
 ],
 "metadata": {
  "kernelspec": {
   "display_name": "Python 3 (ipykernel)",
   "language": "python",
   "name": "python3"
  },
  "language_info": {
   "codemirror_mode": {
    "name": "ipython",
    "version": 3
   },
   "file_extension": ".py",
   "mimetype": "text/x-python",
   "name": "python",
   "nbconvert_exporter": "python",
   "pygments_lexer": "ipython3",
   "version": "3.10.9"
  }
 },
 "nbformat": 4,
 "nbformat_minor": 5
}
