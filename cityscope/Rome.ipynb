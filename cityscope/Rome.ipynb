{
 "cells": [
  {
   "cell_type": "markdown",
   "id": "e26d2dd7-a68c-4c0a-a388-dca51b7772d3",
   "metadata": {},
   "source": [
    "## Inizialitializations"
   ]
  },
  {
   "cell_type": "code",
   "execution_count": 7,
   "id": "73b9ae6a-9c0f-4316-ac3b-cac21b2b3e4e",
   "metadata": {},
   "outputs": [],
   "source": [
    "import osmnx as ox\n",
    "import warnings\n",
    "import numpy as np\n",
    "import pandas as pd\n",
    "import geopandas as gpd\n",
    "import osmnx as ox\n",
    "import json\n",
    "from brix import Handler\n",
    "from Proximity import *\n",
    "from Density import *"
   ]
  },
  {
   "cell_type": "code",
   "execution_count": 8,
   "id": "86cc256e-5be2-452a-a489-200ae42a8146",
   "metadata": {},
   "outputs": [
    {
     "name": "stdout",
     "output_type": "stream",
     "text": [
      "https://cityio.media.mit.edu/api/tables/list/ Attempt: 0\n",
      "https://cityio.media.mit.edu/api/table/ntt_rome/meta/hashes/ Attempt: 0\n",
      "https://cityio.media.mit.edu/api/table/ntt_rome/GEOGRIDDATA/ Attempt: 0\n",
      "https://cityio.media.mit.edu/api/table/ntt_rome/GEOGRID/ Attempt: 0\n"
     ]
    },
    {
     "name": "stderr",
     "output_type": "stream",
     "text": [
      "/opt/anaconda3/envs/prox/lib/python3.10/site-packages/brix/classes.py:981: FutureWarning: In a future version of pandas all arguments of DataFrame.drop except for the argument 'labels' will be keyword-only.\n",
      "  geos = gpd.GeoDataFrame(geos.drop('geometry',1),geometry=geos['geometry'].apply(lambda x: shape(x))) # no crs to avoid warning\n",
      "/opt/anaconda3/envs/prox/lib/python3.10/site-packages/brix/classes.py:251: FutureWarning: In a future version of pandas all arguments of DataFrame.drop except for the argument 'labels' will be keyword-only.\n",
      "  geogrid_data = gpd.GeoDataFrame(geogrid_data.drop('geometry',1),geometry=geogrid_data['geometry'].apply(lambda x: shape(x)),crs='EPSG:4326')\n"
     ]
    }
   ],
   "source": [
    "zones = gpd.read_file('zones/ntt.json')\n",
    "zones.columns=[\"name\",\"geometry\"]\n",
    "for col in zones.name.unique():\n",
    "    zones[col]=0\n",
    "    zones.loc[zones.name==col,col]=1 #zones.geometry.to_crs(crs=3857).area\n",
    "\n",
    "rome_data = gpd.read_file(\"zones/rome_data.json\")\n",
    "\n",
    "H = Handler(\"ntt_rome\")\n",
    "grid = H.get_geogrid_data(include_geometries=True).as_df()\n",
    "\n",
    "target_settings={'housing': {'column': 'residential','max': 1, 'from': 'office'},\n",
    "                 'jobs': {'column': 'office','max': 1, 'from': 'residential'},\n",
    "                'industries': {'column': 'industrial','max': 1, 'from': 'residential'},\n",
    "                'education': {'column': 'educational','max': 1, 'from': 'residential'},\n",
    "                'green': {'column': 'park','max': 1, 'from': 'residential'},\n",
    "                 'institutional': {'column': 'institutional','max': 1, 'from': 'residential'},\n",
    "                 'retail': {'column': 'retail','max': 1, 'from': 'residential'},\n",
    "                }"
   ]
  },
  {
   "cell_type": "markdown",
   "id": "4198f354-93b6-4a98-b9c1-190e29d82d2e",
   "metadata": {},
   "source": [
    "## Backend"
   ]
  },
  {
   "cell_type": "code",
   "execution_count": 9,
   "id": "65de9359-186d-4ccf-9103-a77b1713b761",
   "metadata": {
    "tags": []
   },
   "outputs": [
    {
     "name": "stderr",
     "output_type": "stream",
     "text": [
      "/opt/anaconda3/envs/prox/lib/python3.10/site-packages/osmnet/load.py:445: FutureWarning: Assigning CRS to a GeoDataFrame without a geometry column is now deprecated and will not be supported in the future.\n",
      "  gdf.crs = crs\n",
      "/opt/anaconda3/envs/prox/lib/python3.10/site-packages/pyproj/crs/crs.py:130: FutureWarning: '+init=<authority>:<code>' syntax is deprecated. '<authority>:<code>' is the preferred initialization method. When making the change, be mindful of axis order changes: https://pyproj4.github.io/pyproj/stable/gotchas.html#axis-order-changes-in-proj-6\n",
      "  in_crs_string = _prepare_from_proj_string(in_crs_string)\n",
      "/opt/anaconda3/envs/prox/lib/python3.10/site-packages/osmnet/load.py:445: FutureWarning: Assigning CRS to a GeoDataFrame without a geometry column is now deprecated and will not be supported in the future.\n",
      "  gdf.crs = crs\n",
      "/opt/anaconda3/envs/prox/lib/python3.10/site-packages/osmnet/load.py:147: ShapelyDeprecationWarning: __len__ for multi-part geometries is deprecated and will be removed in Shapely 2.0. Check the length of the `geoms` property instead to get the  number of parts of a multi-part geometry.\n",
      "  'in {:,} request(s)'.format(len(geometry)))\n",
      "/opt/anaconda3/envs/prox/lib/python3.10/site-packages/osmnet/load.py:151: ShapelyDeprecationWarning: Iteration over multi-part geometries is deprecated and will be removed in Shapely 2.0. Use the `geoms` property to access the constituent parts of a multi-part geometry.\n",
      "  for poly in geometry:\n"
     ]
    },
    {
     "name": "stdout",
     "output_type": "stream",
     "text": [
      "Requesting network data within bounding box from Overpass API in 1 request(s)\n",
      "Posting to http://www.overpass-api.de/api/interpreter with timeout=180, \"{'data': '[out:json][timeout:180];(way[\"highway\"][\"highway\"!~\"motor|proposed|construction|abandoned|platform|raceway\"][\"foot\"!~\"no\"][\"pedestrians\"!~\"no\"](41.82221540,12.49840795,41.83572000,12.51646417);>;);out;'}\"\n",
      "Downloaded 397.1KB from www.overpass-api.de in 0.79 seconds\n",
      "Downloaded OSM network data within bounding box from Overpass API in 1 request(s) and 0.81 seconds\n",
      "Returning OSM data with 3,262 nodes and 339 ways...\n",
      "Edge node pairs completed. Took 0.14 seconds\n",
      "Returning processed graph with 438 nodes and 624 edges...\n",
      "Completed OSM data download and Pandana node and edge table creation in 1.03 seconds\n",
      "Generating contraction hierarchies with 8 threads.\n",
      "Setting CH node vector of size 438\n",
      "Setting CH edge vector of size 628\n",
      "Range graph removed 28 edges of 1256\n",
      ". 10% . 20% . 30% . 40% . 50% . 60% . 70% . 80% . 90% . 100%\n",
      " 100% "
     ]
    },
    {
     "name": "stderr",
     "output_type": "stream",
     "text": [
      "/opt/anaconda3/envs/prox/lib/python3.10/site-packages/osmnet/load.py:171: ShapelyDeprecationWarning: __len__ for multi-part geometries is deprecated and will be removed in Shapely 2.0. Check the length of the `geoms` property instead to get the  number of parts of a multi-part geometry.\n",
      "  ' {:,.2f} seconds'.format(len(geometry), time.time()-start_time))\n",
      "/Users/ronandoorley/Documents/Media_Lab/NTT/CS_NTT_Rome/cityscope/Proximity.py:23: UserWarning: Geometry is in a geographic CRS. Results from 'centroid' are likely incorrect. Use 'GeoSeries.to_crs()' to re-project geometries to a projected CRS before this operation.\n",
      "\n",
      "  grid['centroid_x'] = grid.centroid.x\n",
      "/Users/ronandoorley/Documents/Media_Lab/NTT/CS_NTT_Rome/cityscope/Proximity.py:24: UserWarning: Geometry is in a geographic CRS. Results from 'centroid' are likely incorrect. Use 'GeoSeries.to_crs()' to re-project geometries to a projected CRS before this operation.\n",
      "\n",
      "  grid['centroid_y'] = grid.centroid.y\n",
      "/Users/ronandoorley/Documents/Media_Lab/NTT/CS_NTT_Rome/cityscope/Proximity.py:26: UserWarning: Geometry is in a geographic CRS. Results from 'centroid' are likely incorrect. Use 'GeoSeries.to_crs()' to re-project geometries to a projected CRS before this operation.\n",
      "\n",
      "  grid['node'] = net.get_node_ids(grid.centroid.x, grid.centroid.y)\n",
      "/Users/ronandoorley/Documents/Media_Lab/NTT/CS_NTT_Rome/cityscope/Proximity.py:26: UserWarning: Geometry is in a geographic CRS. Results from 'centroid' are likely incorrect. Use 'GeoSeries.to_crs()' to re-project geometries to a projected CRS before this operation.\n",
      "\n",
      "  grid['node'] = net.get_node_ids(grid.centroid.x, grid.centroid.y)\n"
     ]
    }
   ],
   "source": [
    "p = Proximity_Indicator(grid, target_settings)"
   ]
  },
  {
   "cell_type": "code",
   "execution_count": 10,
   "id": "930bdcd5-3a7d-46c0-a533-ae2151e7f107",
   "metadata": {},
   "outputs": [
    {
     "name": "stdout",
     "output_type": "stream",
     "text": [
      "https://cityio.media.mit.edu/api/table/ntt_rome/GEOGRIDDATA/ Attempt: 0\n"
     ]
    }
   ],
   "source": [
    "targets = list(H.get_geogrid_data(include_geometries=True).get_type_info().keys())\n",
    "targets.remove('none')\n",
    "d = Density_Indicator(targets, grid)"
   ]
  },
  {
   "cell_type": "code",
   "execution_count": null,
   "id": "7fb6b149-5b2b-451d-b837-d0187928b4d4",
   "metadata": {
    "tags": []
   },
   "outputs": [
    {
     "name": "stdout",
     "output_type": "stream",
     "text": [
      "https://cityio.media.mit.edu/api/table/ntt_rome/GEOGRIDDATA/ Attempt: 0\n"
     ]
    },
    {
     "name": "stderr",
     "output_type": "stream",
     "text": [
      "/opt/anaconda3/envs/prox/lib/python3.10/site-packages/brix/classes.py:251: FutureWarning: In a future version of pandas all arguments of DataFrame.drop except for the argument 'labels' will be keyword-only.\n",
      "  geogrid_data = gpd.GeoDataFrame(geogrid_data.drop('geometry',1),geometry=geogrid_data['geometry'].apply(lambda x: shape(x)),crs='EPSG:4326')\n"
     ]
    },
    {
     "name": "stdout",
     "output_type": "stream",
     "text": [
      "https://cityio.media.mit.edu/api/table/ntt_rome/GEOGRIDDATA/ Attempt: 0\n"
     ]
    },
    {
     "name": "stderr",
     "output_type": "stream",
     "text": [
      "/opt/anaconda3/envs/prox/lib/python3.10/site-packages/brix/classes.py:251: FutureWarning: In a future version of pandas all arguments of DataFrame.drop except for the argument 'labels' will be keyword-only.\n",
      "  geogrid_data = gpd.GeoDataFrame(geogrid_data.drop('geometry',1),geometry=geogrid_data['geometry'].apply(lambda x: shape(x)),crs='EPSG:4326')\n"
     ]
    },
    {
     "name": "stdout",
     "output_type": "stream",
     "text": [
      "Table URL: https://cityscope.media.mit.edu/CS_cityscopeJS/?cityscope=ntt_rome\n",
      "Testing indicators\n",
      "https://cityio.media.mit.edu/api/table/ntt_rome/GEOGRIDDATA/ Attempt: 0\n"
     ]
    },
    {
     "name": "stderr",
     "output_type": "stream",
     "text": [
      "/opt/anaconda3/envs/prox/lib/python3.10/site-packages/brix/classes.py:251: FutureWarning: In a future version of pandas all arguments of DataFrame.drop except for the argument 'labels' will be keyword-only.\n",
      "  geogrid_data = gpd.GeoDataFrame(geogrid_data.drop('geometry',1),geometry=geogrid_data['geometry'].apply(lambda x: shape(x)),crs='EPSG:4326')\n"
     ]
    },
    {
     "name": "stdout",
     "output_type": "stream",
     "text": [
      "Performing initial update\n",
      "Updating geogrid_data\n",
      "https://cityio.media.mit.edu/api/table/ntt_rome/GEOGRIDDATA/ Attempt: 0\n",
      "https://cityio.media.mit.edu/api/table/ntt_rome/meta/hashes/ Attempt: 0\n",
      "Updating table with hash: DbUKV162H2Q8FaQ2oAth1QLZo2epcE9kfz3kDMMaNp2p\n",
      "https://cityio.media.mit.edu/api/table/ntt_rome/GEOGRIDDATA/ Attempt: 0\n"
     ]
    },
    {
     "name": "stderr",
     "output_type": "stream",
     "text": [
      "/opt/anaconda3/envs/prox/lib/python3.10/site-packages/brix/classes.py:251: FutureWarning: In a future version of pandas all arguments of DataFrame.drop except for the argument 'labels' will be keyword-only.\n",
      "  geogrid_data = gpd.GeoDataFrame(geogrid_data.drop('geometry',1),geometry=geogrid_data['geometry'].apply(lambda x: shape(x)),crs='EPSG:4326')\n"
     ]
    },
    {
     "name": "stdout",
     "output_type": "stream",
     "text": [
      "Done with update\n",
      "Local grid hash: DbUKV162H2Q8FaQ2oAth1QLZo2epcE9kfz3kDMMaNp2p\n",
      "https://cityio.media.mit.edu/api/table/ntt_rome/meta/hashes/ Attempt: 0\n",
      "https://cityio.media.mit.edu/api/table/ntt_rome/meta/hashes/ Attempt: 0\n",
      "https://cityio.media.mit.edu/api/table/ntt_rome/meta/hashes/ Attempt: 0\n",
      "https://cityio.media.mit.edu/api/table/ntt_rome/meta/hashes/ Attempt: 0\n",
      "https://cityio.media.mit.edu/api/table/ntt_rome/meta/hashes/ Attempt: 0\n",
      "https://cityio.media.mit.edu/api/table/ntt_rome/meta/hashes/ Attempt: 0\n",
      "https://cityio.media.mit.edu/api/table/ntt_rome/meta/hashes/ Attempt: 0\n",
      "https://cityio.media.mit.edu/api/table/ntt_rome/meta/hashes/ Attempt: 0\n",
      "https://cityio.media.mit.edu/api/table/ntt_rome/meta/hashes/ Attempt: 0\n",
      "https://cityio.media.mit.edu/api/table/ntt_rome/meta/hashes/ Attempt: 0\n",
      "https://cityio.media.mit.edu/api/table/ntt_rome/meta/hashes/ Attempt: 0\n",
      "https://cityio.media.mit.edu/api/table/ntt_rome/meta/hashes/ Attempt: 0\n",
      "https://cityio.media.mit.edu/api/table/ntt_rome/meta/hashes/ Attempt: 0\n",
      "https://cityio.media.mit.edu/api/table/ntt_rome/meta/hashes/ Attempt: 0\n",
      "https://cityio.media.mit.edu/api/table/ntt_rome/meta/hashes/ Attempt: 0\n",
      "https://cityio.media.mit.edu/api/table/ntt_rome/meta/hashes/ Attempt: 0\n",
      "https://cityio.media.mit.edu/api/table/ntt_rome/meta/hashes/ Attempt: 0\n",
      "https://cityio.media.mit.edu/api/table/ntt_rome/meta/hashes/ Attempt: 0\n",
      "https://cityio.media.mit.edu/api/table/ntt_rome/meta/hashes/ Attempt: 0\n"
     ]
    }
   ],
   "source": [
    "H.add_indicators([p,d])\n",
    "H.listen()"
   ]
  },
  {
   "cell_type": "markdown",
   "id": "91813b6b-efa6-4122-93fd-56233f88219a",
   "metadata": {
    "tags": []
   },
   "source": [
    "# Visualizations"
   ]
  },
  {
   "cell_type": "code",
   "execution_count": null,
   "id": "026545fb-9202-4ca3-9bca-468ea7058ece",
   "metadata": {},
   "outputs": [],
   "source": [
    "rome_data.explore() #Data from 2011 Census "
   ]
  },
  {
   "cell_type": "code",
   "execution_count": null,
   "id": "b60372d1-f5e2-4f56-a196-d392e1b1cffc",
   "metadata": {},
   "outputs": [],
   "source": [
    "zones.explore() #Open Street Map"
   ]
  },
  {
   "cell_type": "code",
   "execution_count": null,
   "id": "eea294cc",
   "metadata": {},
   "outputs": [],
   "source": []
  }
 ],
 "metadata": {
  "kernelspec": {
   "display_name": "Python [conda env:prox]",
   "language": "python",
   "name": "conda-env-prox-py"
  },
  "language_info": {
   "codemirror_mode": {
    "name": "ipython",
    "version": 3
   },
   "file_extension": ".py",
   "mimetype": "text/x-python",
   "name": "python",
   "nbconvert_exporter": "python",
   "pygments_lexer": "ipython3",
   "version": "3.10.4"
  }
 },
 "nbformat": 4,
 "nbformat_minor": 5
}
