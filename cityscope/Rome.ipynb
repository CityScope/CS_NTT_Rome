{
 "cells": [
  {
   "cell_type": "markdown",
   "id": "e26d2dd7-a68c-4c0a-a388-dca51b7772d3",
   "metadata": {},
   "source": [
    "## Inizialitializations"
   ]
  },
  {
   "cell_type": "code",
   "execution_count": null,
   "id": "73b9ae6a-9c0f-4316-ac3b-cac21b2b3e4e",
   "metadata": {},
   "outputs": [],
   "source": [
    "import osmnx as ox\n",
    "import warnings\n",
    "import numpy as np\n",
    "import pandas as pd\n",
    "import geopandas as gpd\n",
    "import osmnx as ox\n",
    "import json\n",
    "from brix import Handler\n",
    "from Proximity import *\n",
    "from Density import *"
   ]
  },
  {
   "cell_type": "code",
   "execution_count": null,
   "id": "86cc256e-5be2-452a-a489-200ae42a8146",
   "metadata": {},
   "outputs": [],
   "source": [
    "zones = gpd.read_file('zones/ntt.json')\n",
    "zones.columns=[\"name\",\"geometry\"]\n",
    "for col in zones.name.unique():\n",
    "    zones[col]=0\n",
    "    zones.loc[zones.name==col,col]=1 #zones.geometry.to_crs(crs=3857).area\n",
    "\n",
    "rome_data = gpd.read_file(\"zones/rome_data.json\")\n",
    "\n",
    "H = Handler(\"ntt_rome\")\n",
    "grid = H.get_geogrid_data(include_geometries=True).as_df()\n",
    "\n",
    "target_settings={'housing': {'column': 'residential','max': 1, 'from': 'office'},\n",
    "                 'jobs': {'column': 'office','max': 1, 'from': 'residential'},\n",
    "                'industries': {'column': 'industrial','max': 1, 'from': 'residential'},\n",
    "                'education': {'column': 'educational','max': 1, 'from': 'residential'},\n",
    "                'green': {'column': 'park','max': 1, 'from': 'residential'},\n",
    "                 'institutional': {'column': 'institutional','max': 1, 'from': 'residential'},\n",
    "                 'retail': {'column': 'retail','max': 1, 'from': 'residential'},\n",
    "                }"
   ]
  },
  {
   "cell_type": "markdown",
   "id": "4198f354-93b6-4a98-b9c1-190e29d82d2e",
   "metadata": {},
   "source": [
    "## Backend"
   ]
  },
  {
   "cell_type": "code",
   "execution_count": null,
   "id": "65de9359-186d-4ccf-9103-a77b1713b761",
   "metadata": {
    "tags": []
   },
   "outputs": [],
   "source": [
    "p = Proximity_Indicator(grid, target_settings)"
   ]
  },
  {
   "cell_type": "code",
   "execution_count": null,
   "id": "930bdcd5-3a7d-46c0-a533-ae2151e7f107",
   "metadata": {},
   "outputs": [],
   "source": [
    "targets = list(H.get_geogrid_data(include_geometries=True).get_type_info().keys())\n",
    "targets.remove('none')\n",
    "d = Density_Indicator(targets, grid)"
   ]
  },
  {
   "cell_type": "code",
   "execution_count": null,
   "id": "7fb6b149-5b2b-451d-b837-d0187928b4d4",
   "metadata": {
    "jupyter": {
     "outputs_hidden": true
    },
    "tags": []
   },
   "outputs": [],
   "source": [
    "H.add_indicators([p,d])\n",
    "H.listen()"
   ]
  },
  {
   "cell_type": "markdown",
   "id": "91813b6b-efa6-4122-93fd-56233f88219a",
   "metadata": {
    "tags": []
   },
   "source": [
    "# Visualizations"
   ]
  },
  {
   "cell_type": "code",
   "execution_count": null,
   "id": "026545fb-9202-4ca3-9bca-468ea7058ece",
   "metadata": {},
   "outputs": [],
   "source": [
    "rome_data.explore() #Data from 2011 Census "
   ]
  },
  {
   "cell_type": "code",
   "execution_count": null,
   "id": "b60372d1-f5e2-4f56-a196-d392e1b1cffc",
   "metadata": {},
   "outputs": [],
   "source": [
    "zones.explore() #Open Street Map"
   ]
  },
  {
   "cell_type": "code",
   "execution_count": null,
   "id": "eea294cc",
   "metadata": {},
   "outputs": [],
   "source": []
  }
 ],
 "metadata": {
  "kernelspec": {
   "display_name": "Python 3 (ipykernel)",
   "language": "python",
   "name": "python3"
  },
  "language_info": {
   "codemirror_mode": {
    "name": "ipython",
    "version": 3
   },
   "file_extension": ".py",
   "mimetype": "text/x-python",
   "name": "python",
   "nbconvert_exporter": "python",
   "pygments_lexer": "ipython3",
   "version": "3.10.2"
  }
 },
 "nbformat": 4,
 "nbformat_minor": 5
}
