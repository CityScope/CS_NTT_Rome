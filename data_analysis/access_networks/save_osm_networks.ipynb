{
 "cells": [
  {
   "cell_type": "code",
   "execution_count": 3,
   "id": "9ac5e304",
   "metadata": {},
   "outputs": [],
   "source": [
    "import osmnx"
   ]
  },
  {
   "cell_type": "code",
   "execution_count": 4,
   "id": "177c9a03",
   "metadata": {},
   "outputs": [],
   "source": [
    "bbox = (12.369733,41.793235,12.620193,41.986079)"
   ]
  },
  {
   "cell_type": "code",
   "execution_count": 6,
   "id": "ff9b9c87",
   "metadata": {},
   "outputs": [],
   "source": [
    "west, south, east, north=bbox"
   ]
  },
  {
   "cell_type": "code",
   "execution_count": 31,
   "id": "375e966d",
   "metadata": {},
   "outputs": [],
   "source": [
    "mode_speeds={'walk': 4800, 'bike': 14000}"
   ]
  },
  {
   "cell_type": "code",
   "execution_count": 35,
   "id": "181c76b1",
   "metadata": {},
   "outputs": [
    {
     "name": "stdout",
     "output_type": "stream",
     "text": [
      "walk\n",
      "bike\n"
     ]
    }
   ],
   "source": [
    "for mode in mode_speeds:\n",
    "    print(mode)\n",
    "    speed=mode_speeds[mode]\n",
    "    net=osmnx.graph.graph_from_bbox(north=north, south=south,\n",
    "                                    east=east, west=west, network_type=mode)\n",
    "    nodes_df, edges_df=osmnx.utils_graph.graph_to_gdfs(net, nodes=True, edges=True)\n",
    "    edges_df['from']=[i[0] for i in edges_df.index]\n",
    "    edges_df['to']=[i[1] for i in edges_df.index]\n",
    "    edges_df['weight']=edges_df['length']/(speed/60)\n",
    "    \n",
    "    edges_df[['from', 'to', 'highway', 'length', 'weight']].to_csv('outputs/networks/{}_edges.csv'.format(mode))\n",
    "    nodes_df[['x', 'y']].to_csv('outputs/networks/{}_nodes.csv'.format(mode))"
   ]
  },
  {
   "cell_type": "code",
   "execution_count": null,
   "id": "eaba0491",
   "metadata": {},
   "outputs": [],
   "source": []
  }
 ],
 "metadata": {
  "kernelspec": {
   "display_name": "Python [conda env:ntt]",
   "language": "python",
   "name": "conda-env-ntt-py"
  },
  "language_info": {
   "codemirror_mode": {
    "name": "ipython",
    "version": 3
   },
   "file_extension": ".py",
   "mimetype": "text/x-python",
   "name": "python",
   "nbconvert_exporter": "python",
   "pygments_lexer": "ipython3",
   "version": "3.9.7"
  }
 },
 "nbformat": 4,
 "nbformat_minor": 5
}
